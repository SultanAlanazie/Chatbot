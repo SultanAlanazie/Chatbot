{
  "cells": [
    {
      "cell_type": "code",
      "execution_count": 12,
      "metadata": {
        "id": "T13YV3ELkzsh"
      },
      "outputs": [],
      "source": [
        "%%capture --no-stderr\n",
        "%pip install --upgrade --quiet langchain-community langchainhub langgraph langchain_groq groq\n"
      ]
    },
    {
      "cell_type": "code",
      "execution_count": 13,
      "metadata": {
        "colab": {
          "base_uri": "https://localhost:8080/"
        },
        "id": "NtjSH8V7l7NF",
        "outputId": "4a009b63-bc81-4084-f02a-a4befa7774f5"
      },
      "outputs": [
        {
          "name": "stdout",
          "output_type": "stream",
          "text": [
            "Requirement already satisfied: langchain in /usr/local/lib/python3.11/dist-packages (0.3.16)\n",
            "Requirement already satisfied: langchain_groq in /usr/local/lib/python3.11/dist-packages (0.2.4)\n",
            "Requirement already satisfied: groq in /usr/local/lib/python3.11/dist-packages (0.16.0)\n",
            "Requirement already satisfied: PyYAML>=5.3 in /usr/local/lib/python3.11/dist-packages (from langchain) (6.0.2)\n",
            "Requirement already satisfied: SQLAlchemy<3,>=1.4 in /usr/local/lib/python3.11/dist-packages (from langchain) (2.0.37)\n",
            "Requirement already satisfied: aiohttp<4.0.0,>=3.8.3 in /usr/local/lib/python3.11/dist-packages (from langchain) (3.11.11)\n",
            "Requirement already satisfied: langchain-core<0.4.0,>=0.3.32 in /usr/local/lib/python3.11/dist-packages (from langchain) (0.3.33)\n",
            "Requirement already satisfied: langchain-text-splitters<0.4.0,>=0.3.3 in /usr/local/lib/python3.11/dist-packages (from langchain) (0.3.5)\n",
            "Requirement already satisfied: langsmith<0.4,>=0.1.17 in /usr/local/lib/python3.11/dist-packages (from langchain) (0.3.2)\n",
            "Requirement already satisfied: numpy<2,>=1.22.4 in /usr/local/lib/python3.11/dist-packages (from langchain) (1.26.4)\n",
            "Requirement already satisfied: pydantic<3.0.0,>=2.7.4 in /usr/local/lib/python3.11/dist-packages (from langchain) (2.10.6)\n",
            "Requirement already satisfied: requests<3,>=2 in /usr/local/lib/python3.11/dist-packages (from langchain) (2.32.3)\n",
            "Requirement already satisfied: tenacity!=8.4.0,<10,>=8.1.0 in /usr/local/lib/python3.11/dist-packages (from langchain) (9.0.0)\n",
            "Requirement already satisfied: anyio<5,>=3.5.0 in /usr/local/lib/python3.11/dist-packages (from groq) (3.7.1)\n",
            "Requirement already satisfied: distro<2,>=1.7.0 in /usr/local/lib/python3.11/dist-packages (from groq) (1.9.0)\n",
            "Requirement already satisfied: httpx<1,>=0.23.0 in /usr/local/lib/python3.11/dist-packages (from groq) (0.28.1)\n",
            "Requirement already satisfied: sniffio in /usr/local/lib/python3.11/dist-packages (from groq) (1.3.1)\n",
            "Requirement already satisfied: typing-extensions<5,>=4.10 in /usr/local/lib/python3.11/dist-packages (from groq) (4.12.2)\n",
            "Requirement already satisfied: aiohappyeyeballs>=2.3.0 in /usr/local/lib/python3.11/dist-packages (from aiohttp<4.0.0,>=3.8.3->langchain) (2.4.4)\n",
            "Requirement already satisfied: aiosignal>=1.1.2 in /usr/local/lib/python3.11/dist-packages (from aiohttp<4.0.0,>=3.8.3->langchain) (1.3.2)\n",
            "Requirement already satisfied: attrs>=17.3.0 in /usr/local/lib/python3.11/dist-packages (from aiohttp<4.0.0,>=3.8.3->langchain) (25.1.0)\n",
            "Requirement already satisfied: frozenlist>=1.1.1 in /usr/local/lib/python3.11/dist-packages (from aiohttp<4.0.0,>=3.8.3->langchain) (1.5.0)\n",
            "Requirement already satisfied: multidict<7.0,>=4.5 in /usr/local/lib/python3.11/dist-packages (from aiohttp<4.0.0,>=3.8.3->langchain) (6.1.0)\n",
            "Requirement already satisfied: propcache>=0.2.0 in /usr/local/lib/python3.11/dist-packages (from aiohttp<4.0.0,>=3.8.3->langchain) (0.2.1)\n",
            "Requirement already satisfied: yarl<2.0,>=1.17.0 in /usr/local/lib/python3.11/dist-packages (from aiohttp<4.0.0,>=3.8.3->langchain) (1.18.3)\n",
            "Requirement already satisfied: idna>=2.8 in /usr/local/lib/python3.11/dist-packages (from anyio<5,>=3.5.0->groq) (3.10)\n",
            "Requirement already satisfied: certifi in /usr/local/lib/python3.11/dist-packages (from httpx<1,>=0.23.0->groq) (2024.12.14)\n",
            "Requirement already satisfied: httpcore==1.* in /usr/local/lib/python3.11/dist-packages (from httpx<1,>=0.23.0->groq) (1.0.7)\n",
            "Requirement already satisfied: h11<0.15,>=0.13 in /usr/local/lib/python3.11/dist-packages (from httpcore==1.*->httpx<1,>=0.23.0->groq) (0.14.0)\n",
            "Requirement already satisfied: jsonpatch<2.0,>=1.33 in /usr/local/lib/python3.11/dist-packages (from langchain-core<0.4.0,>=0.3.32->langchain) (1.33)\n",
            "Requirement already satisfied: packaging<25,>=23.2 in /usr/local/lib/python3.11/dist-packages (from langchain-core<0.4.0,>=0.3.32->langchain) (24.2)\n",
            "Requirement already satisfied: orjson<4.0.0,>=3.9.14 in /usr/local/lib/python3.11/dist-packages (from langsmith<0.4,>=0.1.17->langchain) (3.10.15)\n",
            "Requirement already satisfied: requests-toolbelt<2.0.0,>=1.0.0 in /usr/local/lib/python3.11/dist-packages (from langsmith<0.4,>=0.1.17->langchain) (1.0.0)\n",
            "Requirement already satisfied: zstandard<0.24.0,>=0.23.0 in /usr/local/lib/python3.11/dist-packages (from langsmith<0.4,>=0.1.17->langchain) (0.23.0)\n",
            "Requirement already satisfied: annotated-types>=0.6.0 in /usr/local/lib/python3.11/dist-packages (from pydantic<3.0.0,>=2.7.4->langchain) (0.7.0)\n",
            "Requirement already satisfied: pydantic-core==2.27.2 in /usr/local/lib/python3.11/dist-packages (from pydantic<3.0.0,>=2.7.4->langchain) (2.27.2)\n",
            "Requirement already satisfied: charset-normalizer<4,>=2 in /usr/local/lib/python3.11/dist-packages (from requests<3,>=2->langchain) (3.4.1)\n",
            "Requirement already satisfied: urllib3<3,>=1.21.1 in /usr/local/lib/python3.11/dist-packages (from requests<3,>=2->langchain) (2.3.0)\n",
            "Requirement already satisfied: greenlet!=0.4.17 in /usr/local/lib/python3.11/dist-packages (from SQLAlchemy<3,>=1.4->langchain) (3.1.1)\n",
            "Requirement already satisfied: jsonpointer>=1.9 in /usr/local/lib/python3.11/dist-packages (from jsonpatch<2.0,>=1.33->langchain-core<0.4.0,>=0.3.32->langchain) (3.0.0)\n"
          ]
        }
      ],
      "source": [
        "pip install langchain langchain_groq groq"
      ]
    },
    {
      "cell_type": "code",
      "execution_count": 7,
      "metadata": {
        "colab": {
          "base_uri": "https://localhost:8080/"
        },
        "id": "bb3IlywMlAC0",
        "outputId": "a622ede5-a880-42b8-dec9-c0e9746d1bd5"
      },
      "outputs": [
        {
          "name": "stdout",
          "output_type": "stream",
          "text": [
            "Requirement already satisfied: pyprojroot in /usr/local/lib/python3.11/dist-packages (0.3.0)\n",
            "Requirement already satisfied: typing-extensions in /usr/local/lib/python3.11/dist-packages (from pyprojroot) (4.12.2)\n"
          ]
        }
      ],
      "source": [
        "pip install pyprojroot gradio"
      ]
    },
    {
      "cell_type": "code",
      "execution_count": 5,
      "metadata": {
        "id": "eDmb_WxxkiDR"
      },
      "outputs": [],
      "source": [
        "from langchain_community.utilities import SQLDatabase\n",
        "from pyprojroot import here\n",
        "import warnings\n",
        "warnings.filterwarnings(\"ignore\")"
      ]
    },
    {
      "cell_type": "code",
      "execution_count": 180,
      "metadata": {
        "colab": {
          "base_uri": "https://localhost:8080/",
          "height": 175
        },
        "id": "0GS8eIaekiDT",
        "outputId": "ec27aca4-cac8-4dc1-88c6-04542864dc47"
      },
      "outputs": [
        {
          "name": "stdout",
          "output_type": "stream",
          "text": [
            "sqlite\n",
            "['users']\n"
          ]
        },
        {
          "data": {
            "application/vnd.google.colaboratory.intrinsic+json": {
              "type": "string"
            },
            "text/plain": [
              "\"[(111, 'Farah Said', 'Farah@gmail.com', 'Product Management', 'Product Management Consultant with extensive experience in developing product strategies, analyzing market needs, and designing innovative solutions that meet customer expectations. Focused on achieving added value by guiding teams to deliver high-quality products, while ensuring they align with...', 5), (112, 'Moayad Khalid', 'MK@gmail.com', 'E-commerce Strategist', 'An e-commerce strategy consultant with extensive experience in building and developing successful online stores. Focuses on designing integrated strategies to boost sales, improve customer experience, and increase brand awareness online.', 4), (113, 'Anas Malik', 'AM@gmail.com', 'Cloud Computing', 'A dedicated cloud computing consultant with experience in designing and implementing innovative solutions that meet the needs of businesses. Focused on helping clients transition to cloud infrastructure, ensuring improved efficiency, reduced costs and enhanced security.', 5), (114, 'Laila Zaid', 'LailaZ@gmail.com', 'Digital Marketing Specialist', 'Digital marketing expert with a passion for crafting data-driven strategies that drive business growth. Specializes in SEO, SEM, social media marketing, and email marketing campaigns. Experienced in creating high-impact content and utilizing analytics tools to monitor campaign performance and...', 4), (115, 'Omar Al-Farsi', 'Omar@gmail.com', 'Data Scientist', 'Data scientist with a deep understanding of statistical analysis, machine learning, and big data technologies. Experienced in leveraging data to build predictive models and data-driven solutions that help businesses make informed decisions and optimize operations.', 5), (116, 'Noura Al-Sabah', 'Noura@gmail.com', 'UX/UI Designer', 'UX/UI designer passionate about creating intuitive, user-centered designs. Expertise in wireframing, prototyping, and user research to enhance the user experience. Adept at translating complex requirements into engaging, accessible digital interfaces that meet business and user needs.', 5), (117, 'Khaled Al-Mansoori', 'KhaledM@gmail.com', 'Business Analyst', 'Business analyst with extensive experience in process improvement, requirements gathering, and system implementation. Skilled in identifying business needs and delivering innovative solutions that increase operational efficiency and drive business value.', 4), (118, 'Maya Hassan', 'MayaH@gmail.com', 'Cybersecurity Consultant', 'Cybersecurity expert with a focus on designing and implementing security solutions to safeguard sensitive information. Experienced in risk assessment, vulnerability management, and compliance with industry regulations to protect organizations from cyber threats.', 5), (119, 'Ali Youssef', 'AliY@gmail.com', 'Software Engineer', 'Software engineer with a strong background in full-stack development. Skilled in writing clean, efficient code and building scalable applications. Focused on continuous learning and adapting to the latest technologies to deliver high-performance solutions.', 5), (120, 'Sara Ibrahim', 'SaraIbrahim@gmail.com', 'Business Development Manager', 'Business development manager with a focus on identifying growth opportunities, building relationships, and driving strategic initiatives. Experienced in market research, sales strategies, and partnership development to accelerate company expansion.', 4)]\""
            ]
          },
          "execution_count": 180,
          "metadata": {},
          "output_type": "execute_result"
        }
      ],
      "source": [
        "# validate the connection to the vectordb\n",
        "print(db.dialect)\n",
        "print(db.get_usable_table_names())\n",
        "db.run(\"SELECT * FROM users LIMIT 10;\")"
      ]
    },
    {
      "cell_type": "code",
      "execution_count": null,
      "metadata": {
        "id": "hVLrUn-fEHvq"
      },
      "outputs": [],
      "source": [
        "db_path = \"/content/data/sqldb1.db\"\n",
        "db = SQLDatabase.from_uri(f\"sqlite:///{db_path}\")\n",
        "chain = create_sql_query_chain(llm, db)\n"
      ]
    },
    {
      "cell_type": "code",
      "execution_count": 22,
      "metadata": {
        "colab": {
          "base_uri": "https://localhost:8080/"
        },
        "id": "EOG-Kj9Rp4RX",
        "outputId": "484ea83e-4cd3-4620-c038-6dcd705e485a"
      },
      "outputs": [
        {
          "name": "stdout",
          "output_type": "stream",
          "text": [
            "SELECT \"username\", \"about\" \n",
            "FROM users \n",
            "WHERE \"role\" IN ('Data Scientist', 'UX/UI Designer') \n",
            "ORDER BY \"rate\" DESC \n",
            "LIMIT 2;\n"
          ]
        }
      ],
      "source": [
        "response1 = chain.invoke({\"question\": \"Recommend me a Data Scientist consultant and a UX/UI Designer and tell me about them\"})\n",
        "sql_query = response1.split(\"SQLQuery:\")[-1].strip()\n",
        "print(sql_query)\n",
        "query = db.run(sql_query)"
      ]
    },
    {
      "cell_type": "code",
      "execution_count": 165,
      "metadata": {
        "colab": {
          "base_uri": "https://localhost:8080/",
          "height": 88
        },
        "id": "D7hX-wOyoUOz",
        "outputId": "5eee7054-a99a-4838-dfcc-be4334a3fe58"
      },
      "outputs": [
        {
          "data": {
            "application/vnd.google.colaboratory.intrinsic+json": {
              "type": "string"
            },
            "text/plain": [
              "\"[('Omar Al-Farsi', 'Data scientist with a deep understanding of statistical analysis, machine learning, and big data technologies. Experienced in leveraging data to build predictive models and data-driven solutions that help businesses make informed decisions and optimize operations.'), ('Noura Al-Sabah', 'UX/UI designer passionate about creating intuitive, user-centered designs. Expertise in wireframing, prototyping, and user research to enhance the user experience. Adept at translating complex requirements into engaging, accessible digital interfaces that meet business and user needs.')]\""
            ]
          },
          "execution_count": 165,
          "metadata": {},
          "output_type": "execute_result"
        }
      ],
      "source": [
        "query"
      ]
    },
    {
      "cell_type": "code",
      "execution_count": 17,
      "metadata": {
        "colab": {
          "base_uri": "https://localhost:8080/",
          "height": 122
        },
        "id": "qSeFKXR3n3BT",
        "outputId": "2af82765-d70c-4cc0-99ad-bf168a029f7e"
      },
      "outputs": [
        {
          "name": "stdout",
          "output_type": "stream",
          "text": [
            "SELECT \"username\", \"about\" FROM users WHERE \"role\" LIKE '%Security%' OR \"about\" LIKE '%Security%' LIMIT 5;\n"
          ]
        },
        {
          "data": {
            "application/vnd.google.colaboratory.intrinsic+json": {
              "type": "string"
            },
            "text/plain": [
              "'Based on your query, I recommend the following two consultants to test the security of your app:\\n\\n1. Anas Malik - Although Anas is a cloud computing consultant, his profile mentions that he ensures \"enhanced security\" in his cloud infrastructure solutions, which could be relevant to your app\\'s security testing needs.\\n2. Maya Hassan - Maya is a dedicated cybersecurity expert with experience in designing and implementing security solutions, risk assessment, vulnerability management, and compliance with industry regulations. She seems like a great fit to test the security of your app.\\n\\nPlease reach out to either of them to discuss your app\\'s security testing requirements.'"
            ]
          },
          "execution_count": 17,
          "metadata": {},
          "output_type": "execute_result"
        }
      ],
      "source": [
        "from langchain_community.utilities import SQLDatabase\n",
        "from pyprojroot import here\n",
        "import warnings\n",
        "from langchain.prompts import PromptTemplate\n",
        "from langchain.chains import LLMChain, create_sql_query_chain\n",
        "from langchain_groq import ChatGroq\n",
        "from langchain_community.utilities import SQLDatabase\n",
        "\n",
        "warnings.filterwarnings(\"ignore\")\n",
        "\n",
        "db_path = \"/content/data/sqldb.db\"\n",
        "db = SQLDatabase.from_uri(f\"sqlite:///{db_path}\")\n",
        "\n",
        "llm = ChatGroq(\n",
        "    model='llama3-70b-8192',\n",
        "    temperature=0,\n",
        "    groq_api_key=\"\"\n",
        ")\n",
        "\n",
        "chain = create_sql_query_chain(llm, db)\n",
        "\n",
        "\n",
        "FirstResponse = chain.invoke({\"question\": \"recommend me a consultant, i want to test the Security of my app\"})\n",
        "sql_query = FirstResponse.split(\"SQLQuery:\")[-1].strip()\n",
        "print(sql_query)\n",
        "query = db.run(sql_query)\n",
        "PROMPT_TEMPLATE =    \"\"\"\n",
        "Given the following user question, corresponding SQL query, and SQL result, answer the user question.\n",
        "\n",
        "Question: {question}\n",
        "SQL Query: {query}\n",
        "SQL Result:\n",
        "Answer: \"\"\"\n",
        "language = \"Arabic\"\n",
        "prompt = PromptTemplate(\n",
        "    input_types={'question': 'string', query: 'string'},\n",
        "    template=PROMPT_TEMPLATE\n",
        ")\n",
        "\n",
        "chain1 = LLMChain(llm=llm, prompt=prompt)\n",
        "\n",
        "FinalResponse = chain1.invoke({\"question\": FirstResponse, \"query\": query})\n",
        "FinalResponse['text']"
      ]
    },
    {
      "cell_type": "code",
      "execution_count": 21,
      "metadata": {
        "colab": {
          "base_uri": "https://localhost:8080/",
          "height": 646
        },
        "id": "v6eVAnYYlBPu",
        "outputId": "b1063c22-a526-4e49-f3d6-38db8d889d00"
      },
      "outputs": [
        {
          "name": "stdout",
          "output_type": "stream",
          "text": [
            "Running Gradio in a Colab notebook requires sharing enabled. Automatically setting `share=True` (you can turn this off by setting `share=False` in `launch()` explicitly).\n",
            "\n",
            "Colab notebook detected. To show errors in colab notebook, set debug=True in launch()\n",
            "* Running on public URL: https://fef8737c50b3a548f9.gradio.live\n",
            "\n",
            "This share link expires in 72 hours. For free permanent hosting and GPU upgrades, run `gradio deploy` from the terminal in the working directory to deploy to Hugging Face Spaces (https://huggingface.co/spaces)\n"
          ]
        },
        {
          "data": {
            "text/html": [
              "<div><iframe src=\"https://fef8737c50b3a548f9.gradio.live\" width=\"100%\" height=\"500\" allow=\"autoplay; camera; microphone; clipboard-read; clipboard-write;\" frameborder=\"0\" allowfullscreen></iframe></div>"
            ],
            "text/plain": [
              "<IPython.core.display.HTML object>"
            ]
          },
          "metadata": {},
          "output_type": "display_data"
        },
        {
          "data": {
            "text/plain": []
          },
          "execution_count": 21,
          "metadata": {},
          "output_type": "execute_result"
        }
      ],
      "source": [
        "import gradio as gr\n",
        "from langchain_community.utilities import SQLDatabase\n",
        "from langchain.prompts import PromptTemplate\n",
        "from langchain.chains import LLMChain, create_sql_query_chain\n",
        "from langchain_groq import ChatGroq\n",
        "\n",
        "db_path = \"/content/data/sqldb.db\"\n",
        "db = SQLDatabase.from_uri(f\"sqlite:///{db_path}\")\n",
        "\n",
        "llm = ChatGroq(\n",
        "    model='llama3-70b-8192',\n",
        "    temperature=0,\n",
        "    groq_api_key=\"\"\n",
        ")\n",
        "\n",
        "sql_chain = create_sql_query_chain(llm, db)\n",
        "\n",
        "PROMPT_TEMPLATE = \"\"\"\n",
        "Given the following user question, corresponding SQL query, and SQL result, answer the user question.\n",
        "\n",
        "Question: {question}\n",
        "SQL Query: {query}\n",
        "SQL Result: {result}\n",
        "Answer:\n",
        "\"\"\"\n",
        "\n",
        "prompt = PromptTemplate(\n",
        "    input_variables=['question', 'query', 'result'],\n",
        "    template=PROMPT_TEMPLATE\n",
        ")\n",
        "answer_chain = LLMChain(llm=llm, prompt=prompt)\n",
        "\n",
        "def process_query(user_question):\n",
        "    first_response = sql_chain.invoke({\"question\": user_question})\n",
        "    sql_query = first_response.split(\"SQLQuery:\")[-1].strip()\n",
        "\n",
        "\n",
        "    query_result = db.run(sql_query)\n",
        "\n",
        "\n",
        "    final_response = answer_chain.invoke({\n",
        "        \"question\": user_question,\n",
        "        \"query\": sql_query,\n",
        "        \"result\": query_result\n",
        "    })\n",
        "\n",
        "    return final_response['text']\n",
        "\n",
        "iface = gr.Interface(\n",
        "    fn=process_query,\n",
        "    inputs=\"text\",\n",
        "    outputs=\"text\",\n",
        "    title=\"Khabeer AI Recommender\",\n",
        "    description=\"Ask questions related to any Consultant, you will get answers powered by Khabeer AI.\"\n",
        ")\n",
        "\n",
        "iface.launch()"
      ]
    }
  ],
  "metadata": {
    "colab": {
      "provenance": []
    },
    "kernelspec": {
      "display_name": "sql-rag-gpt",
      "language": "python",
      "name": "python3"
    },
    "language_info": {
      "codemirror_mode": {
        "name": "ipython",
        "version": 3
      },
      "file_extension": ".py",
      "mimetype": "text/x-python",
      "name": "python",
      "nbconvert_exporter": "python",
      "pygments_lexer": "ipython3",
      "version": "3.11.8"
    }
  },
  "nbformat": 4,
  "nbformat_minor": 0
}
